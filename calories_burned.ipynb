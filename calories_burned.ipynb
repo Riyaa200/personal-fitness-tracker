{
 "cells": [
  {
   "cell_type": "markdown",
   "id": "a4b7d69b",
   "metadata": {},
   "source": [
    "# Calories Burned Prediction\n",
    "This notebook trains a model to predict calories burned based on user data."
   ]
  },
  {
   "cell_type": "code",
   "execution_count": null,
   "id": "957bd078",
   "metadata": {},
   "outputs": [],
   "source": [
    "\n",
    "# Import necessary libraries\n",
    "import pandas as pd\n",
    "import numpy as np\n",
    "import matplotlib.pyplot as plt\n",
    "import seaborn as sns\n",
    "from sklearn.model_selection import train_test_split\n",
    "from sklearn.preprocessing import LabelEncoder, StandardScaler\n",
    "from sklearn.ensemble import RandomForestRegressor\n",
    "from sklearn.metrics import mean_absolute_error, r2_score\n",
    "\n",
    "# Load dataset\n",
    "df = pd.read_csv(\"calory.csv\")\n",
    "df.head()\n",
    "    "
   ]
  },
  {
   "cell_type": "markdown",
   "id": "72f52977",
   "metadata": {},
   "source": [
    "## Data Preprocessing"
   ]
  },
  {
   "cell_type": "code",
   "execution_count": null,
   "id": "3cafbe4e",
   "metadata": {},
   "outputs": [],
   "source": [
    "\n",
    "# Encode categorical variables\n",
    "le = LabelEncoder()\n",
    "df[\"Gender\"] = le.fit_transform(df[\"Gender\"])\n",
    "\n",
    "# Feature selection\n",
    "X = df.drop(columns=[\"User_ID\", \"Calorie_Burned\"])\n",
    "y = df[\"Calorie_Burned\"]\n",
    "\n",
    "# Split data\n",
    "X_train, X_test, y_train, y_test = train_test_split(X, y, test_size=0.2, random_state=42)\n",
    "\n",
    "# Scale data\n",
    "scaler = StandardScaler()\n",
    "X_train = scaler.fit_transform(X_train)\n",
    "X_test = scaler.transform(X_test)\n",
    "    "
   ]
  },
  {
   "cell_type": "markdown",
   "id": "946fdc47",
   "metadata": {},
   "source": [
    "## Train Machine Learning Model"
   ]
  },
  {
   "cell_type": "code",
   "execution_count": null,
   "id": "7f8245c3",
   "metadata": {},
   "outputs": [],
   "source": [
    "\n",
    "# Train RandomForest model\n",
    "model = RandomForestRegressor(n_estimators=100, random_state=42)\n",
    "model.fit(X_train, y_train)\n",
    "\n",
    "# Predictions\n",
    "y_pred = model.predict(X_test)\n",
    "\n",
    "# Evaluate model\n",
    "mae = mean_absolute_error(y_test, y_pred)\n",
    "r2 = r2_score(y_test, y_pred)\n",
    "\n",
    "print(f\"Mean Absolute Error: {mae}\")\n",
    "print(f\"R² Score: {r2}\")\n",
    "    "
   ]
  },
  {
   "cell_type": "markdown",
   "id": "caacd768",
   "metadata": {},
   "source": [
    "## Visualizing Predictions"
   ]
  },
  {
   "cell_type": "code",
   "execution_count": null,
   "id": "333e5fa1",
   "metadata": {},
   "outputs": [],
   "source": [
    "\n",
    "plt.figure(figsize=(8, 6))\n",
    "plt.scatter(y_test, y_pred, alpha=0.7, color='blue')\n",
    "plt.plot([y_test.min(), y_test.max()], [y_test.min(), y_test.max()], '--', color='red')\n",
    "plt.xlabel(\"Actual Calories Burned\")\n",
    "plt.ylabel(\"Predicted Calories Burned\")\n",
    "plt.title(\"Actual vs. Predicted Calories Burned\")\n",
    "plt.show()\n",
    "    "
   ]
  }
 ],
 "metadata": {},
 "nbformat": 4,
 "nbformat_minor": 5
}
